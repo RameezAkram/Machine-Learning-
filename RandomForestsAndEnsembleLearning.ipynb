{
 "cells": [
  {
   "cell_type": "code",
   "execution_count": 143,
   "id": "244a40c0",
   "metadata": {},
   "outputs": [],
   "source": [
    "import pandas as pd\n",
    "import numpy as np\n",
    "import matplotlib.pyplot as plt\n",
    "\n",
    "import seaborn as sns\n",
    "\n",
    "from sklearn.model_selection import train_test_split\n",
    "\n"
   ]
  },
  {
   "cell_type": "markdown",
   "id": "47c5b54d",
   "metadata": {},
   "source": [
    "# 1 - Loading The Dataset"
   ]
  },
  {
   "cell_type": "code",
   "execution_count": 144,
   "id": "12fe9091",
   "metadata": {},
   "outputs": [
    {
     "data": {
      "text/html": [
       "<div>\n",
       "<style scoped>\n",
       "    .dataframe tbody tr th:only-of-type {\n",
       "        vertical-align: middle;\n",
       "    }\n",
       "\n",
       "    .dataframe tbody tr th {\n",
       "        vertical-align: top;\n",
       "    }\n",
       "\n",
       "    .dataframe thead th {\n",
       "        text-align: right;\n",
       "    }\n",
       "</style>\n",
       "<table border=\"1\" class=\"dataframe\">\n",
       "  <thead>\n",
       "    <tr style=\"text-align: right;\">\n",
       "      <th></th>\n",
       "      <th>year</th>\n",
       "      <th>month</th>\n",
       "      <th>day</th>\n",
       "      <th>week</th>\n",
       "      <th>temp_2</th>\n",
       "      <th>temp_1</th>\n",
       "      <th>average</th>\n",
       "      <th>actual</th>\n",
       "      <th>friend</th>\n",
       "    </tr>\n",
       "  </thead>\n",
       "  <tbody>\n",
       "    <tr>\n",
       "      <th>0</th>\n",
       "      <td>2019</td>\n",
       "      <td>1</td>\n",
       "      <td>1</td>\n",
       "      <td>Fri</td>\n",
       "      <td>45</td>\n",
       "      <td>45</td>\n",
       "      <td>45.6</td>\n",
       "      <td>45</td>\n",
       "      <td>29</td>\n",
       "    </tr>\n",
       "    <tr>\n",
       "      <th>1</th>\n",
       "      <td>2019</td>\n",
       "      <td>1</td>\n",
       "      <td>2</td>\n",
       "      <td>Sat</td>\n",
       "      <td>44</td>\n",
       "      <td>45</td>\n",
       "      <td>45.7</td>\n",
       "      <td>44</td>\n",
       "      <td>61</td>\n",
       "    </tr>\n",
       "    <tr>\n",
       "      <th>2</th>\n",
       "      <td>2019</td>\n",
       "      <td>1</td>\n",
       "      <td>3</td>\n",
       "      <td>Sun</td>\n",
       "      <td>45</td>\n",
       "      <td>44</td>\n",
       "      <td>45.8</td>\n",
       "      <td>41</td>\n",
       "      <td>56</td>\n",
       "    </tr>\n",
       "    <tr>\n",
       "      <th>3</th>\n",
       "      <td>2019</td>\n",
       "      <td>1</td>\n",
       "      <td>4</td>\n",
       "      <td>Mon</td>\n",
       "      <td>44</td>\n",
       "      <td>41</td>\n",
       "      <td>45.9</td>\n",
       "      <td>40</td>\n",
       "      <td>53</td>\n",
       "    </tr>\n",
       "    <tr>\n",
       "      <th>4</th>\n",
       "      <td>2019</td>\n",
       "      <td>1</td>\n",
       "      <td>5</td>\n",
       "      <td>Tues</td>\n",
       "      <td>41</td>\n",
       "      <td>40</td>\n",
       "      <td>46.0</td>\n",
       "      <td>44</td>\n",
       "      <td>41</td>\n",
       "    </tr>\n",
       "  </tbody>\n",
       "</table>\n",
       "</div>"
      ],
      "text/plain": [
       "   year  month  day  week  temp_2  temp_1  average  actual  friend\n",
       "0  2019      1    1   Fri      45      45     45.6      45      29\n",
       "1  2019      1    2   Sat      44      45     45.7      44      61\n",
       "2  2019      1    3   Sun      45      44     45.8      41      56\n",
       "3  2019      1    4   Mon      44      41     45.9      40      53\n",
       "4  2019      1    5  Tues      41      40     46.0      44      41"
      ]
     },
     "execution_count": 144,
     "metadata": {},
     "output_type": "execute_result"
    }
   ],
   "source": [
    "\n",
    "#link to dataset https://www.kaggle.com/code/anandhuh/climate-prediction-random-forest-94-accuracy/data?select=temps.csv\n",
    "\n",
    "df=pd.read_csv(\"C:\\\\Users\\\\user\\\\Downloads\\\\temps.csv\")\n",
    "\n",
    "df.head()"
   ]
  },
  {
   "cell_type": "code",
   "execution_count": 145,
   "id": "af426ced",
   "metadata": {},
   "outputs": [
    {
     "name": "stdout",
     "output_type": "stream",
     "text": [
      "<class 'pandas.core.frame.DataFrame'>\n",
      "RangeIndex: 348 entries, 0 to 347\n",
      "Data columns (total 9 columns):\n",
      " #   Column   Non-Null Count  Dtype  \n",
      "---  ------   --------------  -----  \n",
      " 0   year     348 non-null    int64  \n",
      " 1   month    348 non-null    int64  \n",
      " 2   day      348 non-null    int64  \n",
      " 3   week     348 non-null    object \n",
      " 4   temp_2   348 non-null    int64  \n",
      " 5   temp_1   348 non-null    int64  \n",
      " 6   average  348 non-null    float64\n",
      " 7   actual   348 non-null    int64  \n",
      " 8   friend   348 non-null    int64  \n",
      "dtypes: float64(1), int64(7), object(1)\n",
      "memory usage: 24.6+ KB\n"
     ]
    }
   ],
   "source": [
    "df.info()"
   ]
  },
  {
   "cell_type": "code",
   "execution_count": 146,
   "id": "13979499",
   "metadata": {},
   "outputs": [
    {
     "data": {
      "text/plain": [
       "year       0\n",
       "month      0\n",
       "day        0\n",
       "week       0\n",
       "temp_2     0\n",
       "temp_1     0\n",
       "average    0\n",
       "actual     0\n",
       "friend     0\n",
       "dtype: int64"
      ]
     },
     "execution_count": 146,
     "metadata": {},
     "output_type": "execute_result"
    }
   ],
   "source": [
    "df.isnull().sum()"
   ]
  },
  {
   "cell_type": "markdown",
   "id": "259fe8bc",
   "metadata": {},
   "source": [
    "<p> It can be observed that there are no null values in the dataset</p>\n"
   ]
  },
  {
   "cell_type": "markdown",
   "id": "a01c17c9",
   "metadata": {},
   "source": [
    "# 2 - Explatory Data Analysis "
   ]
  },
  {
   "cell_type": "code",
   "execution_count": 147,
   "id": "61aeba27",
   "metadata": {},
   "outputs": [
    {
     "data": {
      "text/plain": [
       "<AxesSubplot:>"
      ]
     },
     "execution_count": 147,
     "metadata": {},
     "output_type": "execute_result"
    },
    {
     "data": {
      "image/png": "[encoded data removed]",
      "text/plain": [
       "<Figure size 432x288 with 2 Axes>"
      ]
     },
     "metadata": {
      "needs_background": "light"
     },
     "output_type": "display_data"
    }
   ],
   "source": [
    "sns.heatmap(df.corr(),annot=True)\n"
   ]
  },
  {
   "cell_type": "code",
   "execution_count": 148,
   "id": "36921d32",
   "metadata": {},
   "outputs": [
    {
     "data": {
      "image/png": "[encoded data removed]",
      "text/plain": [
       "<Figure size 432x288 with 1 Axes>"
      ]
     },
     "metadata": {
      "needs_background": "light"
     },
     "output_type": "display_data"
    }
   ],
   "source": [
    "plt.scatter(df['temp_2'],df['actual'])\n",
    "\n",
    "plt.xlabel('temp_2')\n",
    "plt.ylabel('actual')\n",
    "plt.show()"
   ]
  },
  {
   "cell_type": "code",
   "execution_count": 149,
   "id": "7f103705",
   "metadata": {},
   "outputs": [
    {
     "data": {
      "image/png": "[encoded data removed]",
      "text/plain": [
       "<Figure size 432x288 with 1 Axes>"
      ]
     },
     "metadata": {
      "needs_background": "light"
     },
     "output_type": "display_data"
    }
   ],
   "source": [
    "plt.scatter(df['temp_1'],df['actual'])\n",
    "plt.xlabel('temp_1')\n",
    "plt.ylabel('actual')\n",
    "plt.show()"
   ]
  },
  {
   "cell_type": "markdown",
   "id": "aed79758",
   "metadata": {},
   "source": [
    "<p> First lets try the random forest regressor without dropping any numerical attributes</p>\n",
    "\n",
    "<p> Let us first scale the features\n",
    "    \n",
    "   \n",
    "    \n",
    "    "
   ]
  },
  {
   "cell_type": "code",
   "execution_count": 150,
   "id": "dcf21b2e",
   "metadata": {},
   "outputs": [],
   "source": [
    "from sklearn.preprocessing import StandardScaler"
   ]
  },
  {
   "cell_type": "code",
   "execution_count": 151,
   "id": "9a310e1b",
   "metadata": {},
   "outputs": [],
   "source": [
    "Y=df['actual'].values\n",
    "X=df.drop(['actual','week'],axis=1)"
   ]
  },
  {
   "cell_type": "code",
   "execution_count": 152,
   "id": "b96224ca",
   "metadata": {},
   "outputs": [
    {
     "data": {
      "text/html": [
       "<div>\n",
       "<style scoped>\n",
       "    .dataframe tbody tr th:only-of-type {\n",
       "        vertical-align: middle;\n",
       "    }\n",
       "\n",
       "    .dataframe tbody tr th {\n",
       "        vertical-align: top;\n",
       "    }\n",
       "\n",
       "    .dataframe thead th {\n",
       "        text-align: right;\n",
       "    }\n",
       "</style>\n",
       "<table border=\"1\" class=\"dataframe\">\n",
       "  <thead>\n",
       "    <tr style=\"text-align: right;\">\n",
       "      <th></th>\n",
       "      <th>year</th>\n",
       "      <th>month</th>\n",
       "      <th>day</th>\n",
       "      <th>temp_2</th>\n",
       "      <th>temp_1</th>\n",
       "      <th>average</th>\n",
       "      <th>friend</th>\n",
       "    </tr>\n",
       "  </thead>\n",
       "  <tbody>\n",
       "    <tr>\n",
       "      <th>0</th>\n",
       "      <td>2019</td>\n",
       "      <td>1</td>\n",
       "      <td>1</td>\n",
       "      <td>45</td>\n",
       "      <td>45</td>\n",
       "      <td>45.6</td>\n",
       "      <td>29</td>\n",
       "    </tr>\n",
       "    <tr>\n",
       "      <th>1</th>\n",
       "      <td>2019</td>\n",
       "      <td>1</td>\n",
       "      <td>2</td>\n",
       "      <td>44</td>\n",
       "      <td>45</td>\n",
       "      <td>45.7</td>\n",
       "      <td>61</td>\n",
       "    </tr>\n",
       "    <tr>\n",
       "      <th>2</th>\n",
       "      <td>2019</td>\n",
       "      <td>1</td>\n",
       "      <td>3</td>\n",
       "      <td>45</td>\n",
       "      <td>44</td>\n",
       "      <td>45.8</td>\n",
       "      <td>56</td>\n",
       "    </tr>\n",
       "    <tr>\n",
       "      <th>3</th>\n",
       "      <td>2019</td>\n",
       "      <td>1</td>\n",
       "      <td>4</td>\n",
       "      <td>44</td>\n",
       "      <td>41</td>\n",
       "      <td>45.9</td>\n",
       "      <td>53</td>\n",
       "    </tr>\n",
       "    <tr>\n",
       "      <th>4</th>\n",
       "      <td>2019</td>\n",
       "      <td>1</td>\n",
       "      <td>5</td>\n",
       "      <td>41</td>\n",
       "      <td>40</td>\n",
       "      <td>46.0</td>\n",
       "      <td>41</td>\n",
       "    </tr>\n",
       "  </tbody>\n",
       "</table>\n",
       "</div>"
      ],
      "text/plain": [
       "   year  month  day  temp_2  temp_1  average  friend\n",
       "0  2019      1    1      45      45     45.6      29\n",
       "1  2019      1    2      44      45     45.7      61\n",
       "2  2019      1    3      45      44     45.8      56\n",
       "3  2019      1    4      44      41     45.9      53\n",
       "4  2019      1    5      41      40     46.0      41"
      ]
     },
     "execution_count": 152,
     "metadata": {},
     "output_type": "execute_result"
    }
   ],
   "source": [
    "X.head()"
   ]
  },
  {
   "cell_type": "code",
   "execution_count": null,
   "id": "b382eb50",
   "metadata": {},
   "outputs": [],
   "source": []
  },
  {
   "cell_type": "markdown",
   "id": "9f45196e",
   "metadata": {},
   "source": [
    "# 3 - Model Selection"
   ]
  },
  {
   "cell_type": "code",
   "execution_count": 153,
   "id": "1cbf17c1",
   "metadata": {},
   "outputs": [],
   "source": [
    "# Train test split\n",
    "\n",
    "X_train,X_test,Y_train,Y_test=train_test_split(X,Y,test_size=0.2,random_state=1)\n",
    "\n"
   ]
  },
  {
   "cell_type": "code",
   "execution_count": 154,
   "id": "a2abffdf",
   "metadata": {},
   "outputs": [],
   "source": [
    "scaler=StandardScaler()\n",
    "\n",
    "X_train=scaler.fit_transform(X_train)\n",
    "\n",
    "X_test=scaler.transform(X_test)\n",
    "\n",
    "\n",
    "\n",
    "\n",
    "\n",
    "\n",
    "\n"
   ]
  },
  {
   "cell_type": "code",
   "execution_count": 155,
   "id": "94e5b0ea",
   "metadata": {},
   "outputs": [
    {
     "data": {
      "text/plain": [
       "RandomForestRegressor(n_estimators=200, random_state=1)"
      ]
     },
     "execution_count": 155,
     "metadata": {},
     "output_type": "execute_result"
    }
   ],
   "source": [
    "# Model\n",
    "\n",
    "from sklearn.ensemble import RandomForestRegressor\n",
    "\n",
    "rfReg=RandomForestRegressor(n_estimators=200,random_state=1)\n",
    "\n",
    "\n",
    "rfReg.fit(X_train,Y_train)"
   ]
  },
  {
   "cell_type": "code",
   "execution_count": 156,
   "id": "c8f1b76e",
   "metadata": {},
   "outputs": [
    {
     "data": {
      "text/plain": [
       "array([58.615, 74.57 , 69.82 , 73.795, 73.045, 60.265, 51.84 , 45.34 ,\n",
       "       66.185, 74.18 , 45.31 , 77.025, 65.375, 78.21 , 55.645, 60.44 ,\n",
       "       40.85 , 49.27 , 55.72 , 73.825, 53.565, 75.52 , 79.86 , 83.185,\n",
       "       61.495, 48.355, 80.395, 73.925, 62.355, 37.655, 62.52 , 57.35 ,\n",
       "       65.94 , 63.32 , 79.995, 71.615, 71.34 , 51.505, 41.005, 51.905,\n",
       "       77.925, 68.465, 62.81 , 42.77 , 74.625, 68.16 , 64.93 , 68.18 ,\n",
       "       72.53 , 54.405, 69.65 , 66.33 , 65.1  , 44.465, 73.805, 75.345,\n",
       "       41.505, 75.04 , 53.66 , 61.77 , 76.26 , 49.19 , 80.81 , 52.305,\n",
       "       59.595, 52.28 , 61.67 , 52.325, 59.455, 76.36 ])"
      ]
     },
     "execution_count": 156,
     "metadata": {},
     "output_type": "execute_result"
    }
   ],
   "source": [
    "Y_pred=rfReg.predict(X_test)\n",
    "\n",
    "Y_pred\n",
    "\n",
    "\n"
   ]
  },
  {
   "cell_type": "code",
   "execution_count": 181,
   "id": "587bd5f2",
   "metadata": {},
   "outputs": [],
   "source": [
    "# accuracy score\n",
    "\n",
    "from sklearn.metrics import r2_score\n"
   ]
  },
  {
   "cell_type": "code",
   "execution_count": 182,
   "id": "9879e47d",
   "metadata": {},
   "outputs": [
    {
     "name": "stdout",
     "output_type": "stream",
     "text": [
      "The Coeffiecient of Determination (R2 Score) is :  0.81717664916092\n"
     ]
    }
   ],
   "source": [
    "\n",
    "print(f'The Coeffiecient of Determination (R2 Score) is : ',r2_score(Y_test,Y_pred))\n"
   ]
  },
  {
   "cell_type": "markdown",
   "id": "33683f34",
   "metadata": {},
   "source": [
    "<p> As we can see,the R2 Score is good, but lets try to improve it by checking the feature importance of the features</p>"
   ]
  },
  {
   "cell_type": "code",
   "execution_count": 163,
   "id": "ab42793b",
   "metadata": {},
   "outputs": [
    {
     "name": "stdout",
     "output_type": "stream",
     "text": [
      "year 0.0\n",
      "month 0.013970603028255354\n",
      "day 0.025318424365925876\n",
      "temp_2 0.02688131001289727\n",
      "temp_1 0.589868347767277\n",
      "average 0.31531029837408575\n",
      "friend 0.02865101645155888\n"
     ]
    }
   ],
   "source": [
    "# feauture importance scores\n",
    "\n",
    "cols_list=list(X.columns)\n",
    "\n",
    "for name,score in zip(cols_list,rfReg.feature_importances_):\n",
    "    print(name,score)"
   ]
  },
  {
   "cell_type": "markdown",
   "id": "7cf8e905",
   "metadata": {},
   "source": [
    "<p> From the scores above, we will only consider the feautures temp_1 and average</p>"
   ]
  },
  {
   "cell_type": "code",
   "execution_count": 170,
   "id": "8d0d5365",
   "metadata": {},
   "outputs": [
    {
     "data": {
      "text/html": [
       "<div>\n",
       "<style scoped>\n",
       "    .dataframe tbody tr th:only-of-type {\n",
       "        vertical-align: middle;\n",
       "    }\n",
       "\n",
       "    .dataframe tbody tr th {\n",
       "        vertical-align: top;\n",
       "    }\n",
       "\n",
       "    .dataframe thead th {\n",
       "        text-align: right;\n",
       "    }\n",
       "</style>\n",
       "<table border=\"1\" class=\"dataframe\">\n",
       "  <thead>\n",
       "    <tr style=\"text-align: right;\">\n",
       "      <th></th>\n",
       "      <th>temp_1</th>\n",
       "      <th>average</th>\n",
       "    </tr>\n",
       "  </thead>\n",
       "  <tbody>\n",
       "    <tr>\n",
       "      <th>0</th>\n",
       "      <td>45</td>\n",
       "      <td>45.6</td>\n",
       "    </tr>\n",
       "    <tr>\n",
       "      <th>1</th>\n",
       "      <td>45</td>\n",
       "      <td>45.7</td>\n",
       "    </tr>\n",
       "    <tr>\n",
       "      <th>2</th>\n",
       "      <td>44</td>\n",
       "      <td>45.8</td>\n",
       "    </tr>\n",
       "    <tr>\n",
       "      <th>3</th>\n",
       "      <td>41</td>\n",
       "      <td>45.9</td>\n",
       "    </tr>\n",
       "    <tr>\n",
       "      <th>4</th>\n",
       "      <td>40</td>\n",
       "      <td>46.0</td>\n",
       "    </tr>\n",
       "  </tbody>\n",
       "</table>\n",
       "</div>"
      ],
      "text/plain": [
       "   temp_1  average\n",
       "0      45     45.6\n",
       "1      45     45.7\n",
       "2      44     45.8\n",
       "3      41     45.9\n",
       "4      40     46.0"
      ]
     },
     "execution_count": 170,
     "metadata": {},
     "output_type": "execute_result"
    }
   ],
   "source": [
    "X_new=X.copy()\n",
    "\n",
    "X_new.head()\n",
    "\n",
    "# Removing the non-required features\n",
    "\n",
    "X_new=X_new.iloc[:,4:6]\n",
    "\n",
    "X_new.head()\n",
    "\n"
   ]
  },
  {
   "cell_type": "code",
   "execution_count": 172,
   "id": "044e4110",
   "metadata": {},
   "outputs": [],
   "source": [
    "# train test split\n",
    "X_train_new,X_test_new,Y_train_new,Y_test_new=train_test_split(X_new,Y,test_size=0.2,random_state=1)\n",
    "\n"
   ]
  },
  {
   "cell_type": "code",
   "execution_count": 173,
   "id": "f4a829f2",
   "metadata": {},
   "outputs": [],
   "source": [
    "# Scaling\n",
    "X_train_new=scaler.fit_transform(X_train_new)\n",
    "X_test_new=scaler.transform(X_test_new)"
   ]
  },
  {
   "cell_type": "code",
   "execution_count": 174,
   "id": "db250667",
   "metadata": {},
   "outputs": [
    {
     "data": {
      "text/plain": [
       "RandomForestRegressor(n_estimators=200, random_state=1)"
      ]
     },
     "execution_count": 174,
     "metadata": {},
     "output_type": "execute_result"
    }
   ],
   "source": [
    "rfReg.fit(X_train_new,Y_train_new)"
   ]
  },
  {
   "cell_type": "code",
   "execution_count": 176,
   "id": "c3578b71",
   "metadata": {},
   "outputs": [
    {
     "data": {
      "text/plain": [
       "array([58.505     , 75.59      , 71.79      , 70.595     , 64.915     ,\n",
       "       60.265     , 53.04833333, 45.115     , 64.815     , 75.415     ,\n",
       "       45.00166667, 78.685     , 64.495     , 77.91      , 54.745     ,\n",
       "       59.64      , 38.27833333, 49.82208333, 56.46      , 74.835     ,\n",
       "       53.14      , 75.705     , 78.405     , 86.065     , 61.21      ,\n",
       "       49.235     , 85.145     , 77.095     , 58.295     , 37.90166667,\n",
       "       63.285     , 56.78      , 65.424     , 64.86      , 85.75      ,\n",
       "       71.5       , 68.565     , 52.025     , 44.02145833, 51.56      ,\n",
       "       78.905     , 66.585     , 60.145     , 43.385     , 71.2       ,\n",
       "       67.815     , 61.92633333, 66.65875   , 68.835     , 55.51      ,\n",
       "       68.7475    , 68.385     , 69.16683333, 46.23708333, 75.27      ,\n",
       "       79.175     , 40.06833333, 76.79      , 52.58      , 62.945     ,\n",
       "       74.945     , 46.965     , 76.17      , 53.85      , 59.345     ,\n",
       "       50.695     , 63.28      , 51.695     , 56.695     , 75.57      ])"
      ]
     },
     "execution_count": 176,
     "metadata": {},
     "output_type": "execute_result"
    }
   ],
   "source": [
    "y_pred_new=rfReg.predict(X_test_new)\n",
    "\n",
    "y_pred_new"
   ]
  },
  {
   "cell_type": "code",
   "execution_count": 180,
   "id": "c8108cf2",
   "metadata": {},
   "outputs": [
    {
     "name": "stdout",
     "output_type": "stream",
     "text": [
      "The Coeffiecient of Determination (R2 Score) is :  0.7950079710398562\n"
     ]
    }
   ],
   "source": [
    "\n",
    "print(f'The Coeffiecient of Determination (R2 Score) is : ',r2_score(Y_test_new,y_pred_new))"
   ]
  },
  {
   "cell_type": "markdown",
   "id": "19eb61bb",
   "metadata": {},
   "source": [
    "#### so it seems that dropping more features is not a good option since the R2 Score has decreased, so we should keep the original features"
   ]
  },
  {
   "cell_type": "code",
   "execution_count": null,
   "id": "0fc23d33",
   "metadata": {},
   "outputs": [],
   "source": []
  }
 ],
 "metadata": {
  "kernelspec": {
   "display_name": "Python 3 (ipykernel)",
   "language": "python",
   "name": "python3"
  },
  "language_info": {
   "codemirror_mode": {
    "name": "ipython",
    "version": 3
   },
   "file_extension": ".py",
   "mimetype": "text/x-python",
   "name": "python",
   "nbconvert_exporter": "python",
   "pygments_lexer": "ipython3",
   "version": "3.9.7"
  }
 },
 "nbformat": 4,
 "nbformat_minor": 5
}
