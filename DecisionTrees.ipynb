{
 "cells": [
  {
   "cell_type": "code",
   "execution_count": 32,
   "id": "8472d110",
   "metadata": {},
   "outputs": [],
   "source": [
    "import matplotlib.pyplot as plt\n",
    "import pandas as pd\n",
    "import numpy as np\n",
    "\n",
    "from sklearn.model_selection import train_test_split\n",
    "\n",
    "from sklearn.tree import DecisionTreeClassifier\n",
    "\n",
    "from sklearn.metrics import confusion_matrix\n",
    "\n",
    "\n"
   ]
  },
  {
   "cell_type": "code",
   "execution_count": 33,
   "id": "98c52895",
   "metadata": {},
   "outputs": [
    {
     "data": {
      "text/html": [
       "<div>\n",
       "<style scoped>\n",
       "    .dataframe tbody tr th:only-of-type {\n",
       "        vertical-align: middle;\n",
       "    }\n",
       "\n",
       "    .dataframe tbody tr th {\n",
       "        vertical-align: top;\n",
       "    }\n",
       "\n",
       "    .dataframe thead th {\n",
       "        text-align: right;\n",
       "    }\n",
       "</style>\n",
       "<table border=\"1\" class=\"dataframe\">\n",
       "  <thead>\n",
       "    <tr style=\"text-align: right;\">\n",
       "      <th></th>\n",
       "      <th>vhigh</th>\n",
       "      <th>vhigh.1</th>\n",
       "      <th>2</th>\n",
       "      <th>2.1</th>\n",
       "      <th>small</th>\n",
       "      <th>low</th>\n",
       "      <th>unacc</th>\n",
       "    </tr>\n",
       "  </thead>\n",
       "  <tbody>\n",
       "    <tr>\n",
       "      <th>0</th>\n",
       "      <td>vhigh</td>\n",
       "      <td>vhigh</td>\n",
       "      <td>2</td>\n",
       "      <td>2</td>\n",
       "      <td>small</td>\n",
       "      <td>med</td>\n",
       "      <td>unacc</td>\n",
       "    </tr>\n",
       "    <tr>\n",
       "      <th>1</th>\n",
       "      <td>vhigh</td>\n",
       "      <td>vhigh</td>\n",
       "      <td>2</td>\n",
       "      <td>2</td>\n",
       "      <td>small</td>\n",
       "      <td>high</td>\n",
       "      <td>unacc</td>\n",
       "    </tr>\n",
       "    <tr>\n",
       "      <th>2</th>\n",
       "      <td>vhigh</td>\n",
       "      <td>vhigh</td>\n",
       "      <td>2</td>\n",
       "      <td>2</td>\n",
       "      <td>med</td>\n",
       "      <td>low</td>\n",
       "      <td>unacc</td>\n",
       "    </tr>\n",
       "    <tr>\n",
       "      <th>3</th>\n",
       "      <td>vhigh</td>\n",
       "      <td>vhigh</td>\n",
       "      <td>2</td>\n",
       "      <td>2</td>\n",
       "      <td>med</td>\n",
       "      <td>med</td>\n",
       "      <td>unacc</td>\n",
       "    </tr>\n",
       "    <tr>\n",
       "      <th>4</th>\n",
       "      <td>vhigh</td>\n",
       "      <td>vhigh</td>\n",
       "      <td>2</td>\n",
       "      <td>2</td>\n",
       "      <td>med</td>\n",
       "      <td>high</td>\n",
       "      <td>unacc</td>\n",
       "    </tr>\n",
       "  </tbody>\n",
       "</table>\n",
       "</div>"
      ],
      "text/plain": [
       "   vhigh vhigh.1  2 2.1  small   low  unacc\n",
       "0  vhigh   vhigh  2   2  small   med  unacc\n",
       "1  vhigh   vhigh  2   2  small  high  unacc\n",
       "2  vhigh   vhigh  2   2    med   low  unacc\n",
       "3  vhigh   vhigh  2   2    med   med  unacc\n",
       "4  vhigh   vhigh  2   2    med  high  unacc"
      ]
     },
     "execution_count": 33,
     "metadata": {},
     "output_type": "execute_result"
    }
   ],
   "source": [
    "# link to the kaggle dataset https://www.kaggle.com/code/prashant111/decision-tree-classifier-tutorial/data\n",
    "\n",
    "df=pd.read_csv(\"C:\\\\Users\\\\user\\\\Downloads\\\\car_evaluation.csv\")\n",
    "\n",
    "df.head()"
   ]
  },
  {
   "cell_type": "markdown",
   "id": "7990d672",
   "metadata": {},
   "source": [
    "# Explanatory Data Analysis "
   ]
  },
  {
   "cell_type": "code",
   "execution_count": 34,
   "id": "7f0665c6",
   "metadata": {},
   "outputs": [
    {
     "data": {
      "text/plain": [
       "(1727, 7)"
      ]
     },
     "execution_count": 34,
     "metadata": {},
     "output_type": "execute_result"
    }
   ],
   "source": [
    " df.shape"
   ]
  },
  {
   "cell_type": "code",
   "execution_count": 35,
   "id": "5bccfef8",
   "metadata": {},
   "outputs": [
    {
     "data": {
      "text/plain": [
       "Index(['vhigh', 'vhigh.1', '2', '2.1', 'small', 'low', 'unacc'], dtype='object')"
      ]
     },
     "execution_count": 35,
     "metadata": {},
     "output_type": "execute_result"
    }
   ],
   "source": [
    "df.columns"
   ]
  },
  {
   "cell_type": "markdown",
   "id": "8a03ac13",
   "metadata": {},
   "source": [
    "<p>We Should Rename The Column Names first because they dont have a useful name currently</p>"
   ]
  },
  {
   "cell_type": "code",
   "execution_count": 36,
   "id": "54fdc942",
   "metadata": {},
   "outputs": [],
   "source": [
    "df.columns=['Buy Probability', 'Maintenance', 'Door Number', 'Persons it can fit', 'Luggage Capacity', 'Safety', 'Classification']"
   ]
  },
  {
   "cell_type": "code",
   "execution_count": 37,
   "id": "c6e11187",
   "metadata": {},
   "outputs": [
    {
     "data": {
      "text/html": [
       "<div>\n",
       "<style scoped>\n",
       "    .dataframe tbody tr th:only-of-type {\n",
       "        vertical-align: middle;\n",
       "    }\n",
       "\n",
       "    .dataframe tbody tr th {\n",
       "        vertical-align: top;\n",
       "    }\n",
       "\n",
       "    .dataframe thead th {\n",
       "        text-align: right;\n",
       "    }\n",
       "</style>\n",
       "<table border=\"1\" class=\"dataframe\">\n",
       "  <thead>\n",
       "    <tr style=\"text-align: right;\">\n",
       "      <th></th>\n",
       "      <th>Buy Probability</th>\n",
       "      <th>Maintenance</th>\n",
       "      <th>Door Number</th>\n",
       "      <th>Persons it can fit</th>\n",
       "      <th>Luggage Capacity</th>\n",
       "      <th>Safety</th>\n",
       "      <th>Classification</th>\n",
       "    </tr>\n",
       "  </thead>\n",
       "  <tbody>\n",
       "    <tr>\n",
       "      <th>0</th>\n",
       "      <td>vhigh</td>\n",
       "      <td>vhigh</td>\n",
       "      <td>2</td>\n",
       "      <td>2</td>\n",
       "      <td>small</td>\n",
       "      <td>med</td>\n",
       "      <td>unacc</td>\n",
       "    </tr>\n",
       "    <tr>\n",
       "      <th>1</th>\n",
       "      <td>vhigh</td>\n",
       "      <td>vhigh</td>\n",
       "      <td>2</td>\n",
       "      <td>2</td>\n",
       "      <td>small</td>\n",
       "      <td>high</td>\n",
       "      <td>unacc</td>\n",
       "    </tr>\n",
       "    <tr>\n",
       "      <th>2</th>\n",
       "      <td>vhigh</td>\n",
       "      <td>vhigh</td>\n",
       "      <td>2</td>\n",
       "      <td>2</td>\n",
       "      <td>med</td>\n",
       "      <td>low</td>\n",
       "      <td>unacc</td>\n",
       "    </tr>\n",
       "    <tr>\n",
       "      <th>3</th>\n",
       "      <td>vhigh</td>\n",
       "      <td>vhigh</td>\n",
       "      <td>2</td>\n",
       "      <td>2</td>\n",
       "      <td>med</td>\n",
       "      <td>med</td>\n",
       "      <td>unacc</td>\n",
       "    </tr>\n",
       "    <tr>\n",
       "      <th>4</th>\n",
       "      <td>vhigh</td>\n",
       "      <td>vhigh</td>\n",
       "      <td>2</td>\n",
       "      <td>2</td>\n",
       "      <td>med</td>\n",
       "      <td>high</td>\n",
       "      <td>unacc</td>\n",
       "    </tr>\n",
       "  </tbody>\n",
       "</table>\n",
       "</div>"
      ],
      "text/plain": [
       "  Buy Probability Maintenance Door Number Persons it can fit Luggage Capacity  \\\n",
       "0           vhigh       vhigh           2                  2            small   \n",
       "1           vhigh       vhigh           2                  2            small   \n",
       "2           vhigh       vhigh           2                  2              med   \n",
       "3           vhigh       vhigh           2                  2              med   \n",
       "4           vhigh       vhigh           2                  2              med   \n",
       "\n",
       "  Safety Classification  \n",
       "0    med          unacc  \n",
       "1   high          unacc  \n",
       "2    low          unacc  \n",
       "3    med          unacc  \n",
       "4   high          unacc  "
      ]
     },
     "execution_count": 37,
     "metadata": {},
     "output_type": "execute_result"
    }
   ],
   "source": [
    "df.head()"
   ]
  },
  {
   "cell_type": "code",
   "execution_count": 38,
   "id": "2d165be8",
   "metadata": {},
   "outputs": [
    {
     "name": "stdout",
     "output_type": "stream",
     "text": [
      "<class 'pandas.core.frame.DataFrame'>\n",
      "RangeIndex: 1727 entries, 0 to 1726\n",
      "Data columns (total 7 columns):\n",
      " #   Column              Non-Null Count  Dtype \n",
      "---  ------              --------------  ----- \n",
      " 0   Buy Probability     1727 non-null   object\n",
      " 1   Maintenance         1727 non-null   object\n",
      " 2   Door Number         1727 non-null   object\n",
      " 3   Persons it can fit  1727 non-null   object\n",
      " 4   Luggage Capacity    1727 non-null   object\n",
      " 5   Safety              1727 non-null   object\n",
      " 6   Classification      1727 non-null   object\n",
      "dtypes: object(7)\n",
      "memory usage: 94.6+ KB\n"
     ]
    }
   ],
   "source": [
    "df.info()"
   ]
  },
  {
   "cell_type": "code",
   "execution_count": 39,
   "id": "46cad3d0",
   "metadata": {},
   "outputs": [
    {
     "data": {
      "text/plain": [
       "Buy Probability       0\n",
       "Maintenance           0\n",
       "Door Number           0\n",
       "Persons it can fit    0\n",
       "Luggage Capacity      0\n",
       "Safety                0\n",
       "Classification        0\n",
       "dtype: int64"
      ]
     },
     "execution_count": 39,
     "metadata": {},
     "output_type": "execute_result"
    }
   ],
   "source": [
    "df.isnull().sum()"
   ]
  },
  {
   "cell_type": "markdown",
   "id": "62507992",
   "metadata": {},
   "source": [
    "<p> As we can see,there are no null values so no need to fill anything</p>"
   ]
  },
  {
   "cell_type": "markdown",
   "id": "baf534fa",
   "metadata": {},
   "source": [
    "<p> Since all the features are categorical attributes we need to transform them into numerical values </p>\n",
    "<p>since the categories are Ordinal in nature (ranges from low to very good) we can use the Ordinal Encoder for all features to transform them"
   ]
  },
  {
   "cell_type": "code",
   "execution_count": 51,
   "id": "438ceef3",
   "metadata": {},
   "outputs": [],
   "source": [
    "from sklearn.preprocessing import OrdinalEncoder"
   ]
  },
  {
   "cell_type": "code",
   "execution_count": 52,
   "id": "37822b5b",
   "metadata": {},
   "outputs": [],
   "source": [
    "Y=df['Classification']\n",
    "X=df.drop(['Classification'],axis=1)"
   ]
  },
  {
   "cell_type": "code",
   "execution_count": 53,
   "id": "387fd0de",
   "metadata": {},
   "outputs": [
    {
     "data": {
      "text/html": [
       "<div>\n",
       "<style scoped>\n",
       "    .dataframe tbody tr th:only-of-type {\n",
       "        vertical-align: middle;\n",
       "    }\n",
       "\n",
       "    .dataframe tbody tr th {\n",
       "        vertical-align: top;\n",
       "    }\n",
       "\n",
       "    .dataframe thead th {\n",
       "        text-align: right;\n",
       "    }\n",
       "</style>\n",
       "<table border=\"1\" class=\"dataframe\">\n",
       "  <thead>\n",
       "    <tr style=\"text-align: right;\">\n",
       "      <th></th>\n",
       "      <th>Buy Probability</th>\n",
       "      <th>Maintenance</th>\n",
       "      <th>Door Number</th>\n",
       "      <th>Persons it can fit</th>\n",
       "      <th>Luggage Capacity</th>\n",
       "      <th>Safety</th>\n",
       "    </tr>\n",
       "  </thead>\n",
       "  <tbody>\n",
       "    <tr>\n",
       "      <th>0</th>\n",
       "      <td>vhigh</td>\n",
       "      <td>vhigh</td>\n",
       "      <td>2</td>\n",
       "      <td>2</td>\n",
       "      <td>small</td>\n",
       "      <td>med</td>\n",
       "    </tr>\n",
       "    <tr>\n",
       "      <th>1</th>\n",
       "      <td>vhigh</td>\n",
       "      <td>vhigh</td>\n",
       "      <td>2</td>\n",
       "      <td>2</td>\n",
       "      <td>small</td>\n",
       "      <td>high</td>\n",
       "    </tr>\n",
       "    <tr>\n",
       "      <th>2</th>\n",
       "      <td>vhigh</td>\n",
       "      <td>vhigh</td>\n",
       "      <td>2</td>\n",
       "      <td>2</td>\n",
       "      <td>med</td>\n",
       "      <td>low</td>\n",
       "    </tr>\n",
       "    <tr>\n",
       "      <th>3</th>\n",
       "      <td>vhigh</td>\n",
       "      <td>vhigh</td>\n",
       "      <td>2</td>\n",
       "      <td>2</td>\n",
       "      <td>med</td>\n",
       "      <td>med</td>\n",
       "    </tr>\n",
       "    <tr>\n",
       "      <th>4</th>\n",
       "      <td>vhigh</td>\n",
       "      <td>vhigh</td>\n",
       "      <td>2</td>\n",
       "      <td>2</td>\n",
       "      <td>med</td>\n",
       "      <td>high</td>\n",
       "    </tr>\n",
       "  </tbody>\n",
       "</table>\n",
       "</div>"
      ],
      "text/plain": [
       "  Buy Probability Maintenance Door Number Persons it can fit Luggage Capacity  \\\n",
       "0           vhigh       vhigh           2                  2            small   \n",
       "1           vhigh       vhigh           2                  2            small   \n",
       "2           vhigh       vhigh           2                  2              med   \n",
       "3           vhigh       vhigh           2                  2              med   \n",
       "4           vhigh       vhigh           2                  2              med   \n",
       "\n",
       "  Safety  \n",
       "0    med  \n",
       "1   high  \n",
       "2    low  \n",
       "3    med  \n",
       "4   high  "
      ]
     },
     "execution_count": 53,
     "metadata": {},
     "output_type": "execute_result"
    }
   ],
   "source": [
    "X.head()"
   ]
  },
  {
   "cell_type": "code",
   "execution_count": 54,
   "id": "a0c9c2fb",
   "metadata": {},
   "outputs": [
    {
     "data": {
      "text/plain": [
       "0    unacc\n",
       "1    unacc\n",
       "2    unacc\n",
       "3    unacc\n",
       "4    unacc\n",
       "Name: Classification, dtype: object"
      ]
     },
     "execution_count": 54,
     "metadata": {},
     "output_type": "execute_result"
    }
   ],
   "source": [
    "Y.head()"
   ]
  },
  {
   "cell_type": "code",
   "execution_count": 58,
   "id": "16832e32",
   "metadata": {},
   "outputs": [],
   "source": [
    "ordenc=OrdinalEncoder()"
   ]
  },
  {
   "cell_type": "code",
   "execution_count": 75,
   "id": "cab1e777",
   "metadata": {},
   "outputs": [
    {
     "ename": "AttributeError",
     "evalue": "'numpy.ndarray' object has no attribute 'values'",
     "output_type": "error",
     "traceback": [
      "\u001b[1;31m---------------------------------------------------------------------------\u001b[0m",
      "\u001b[1;31mAttributeError\u001b[0m                            Traceback (most recent call last)",
      "\u001b[1;32m~\\AppData\\Local\\Temp/ipykernel_12792/2807753323.py\u001b[0m in \u001b[0;36m<module>\u001b[1;34m\u001b[0m\n\u001b[0;32m      1\u001b[0m \u001b[0mX\u001b[0m\u001b[1;33m=\u001b[0m\u001b[0mordenc\u001b[0m\u001b[1;33m.\u001b[0m\u001b[0mfit_transform\u001b[0m\u001b[1;33m(\u001b[0m\u001b[0mX\u001b[0m\u001b[1;33m)\u001b[0m\u001b[1;33m\u001b[0m\u001b[1;33m\u001b[0m\u001b[0m\n\u001b[0;32m      2\u001b[0m \u001b[1;33m\u001b[0m\u001b[0m\n\u001b[1;32m----> 3\u001b[1;33m \u001b[0mY\u001b[0m\u001b[1;33m=\u001b[0m\u001b[0mordenc\u001b[0m\u001b[1;33m.\u001b[0m\u001b[0mfit_transform\u001b[0m\u001b[1;33m(\u001b[0m\u001b[0mY\u001b[0m\u001b[1;33m.\u001b[0m\u001b[0mvalues\u001b[0m\u001b[1;33m.\u001b[0m\u001b[0mreshape\u001b[0m\u001b[1;33m(\u001b[0m\u001b[1;33m-\u001b[0m\u001b[1;36m1\u001b[0m\u001b[1;33m,\u001b[0m\u001b[1;36m1\u001b[0m\u001b[1;33m)\u001b[0m\u001b[1;33m)\u001b[0m\u001b[1;33m\u001b[0m\u001b[1;33m\u001b[0m\u001b[0m\n\u001b[0m\u001b[0;32m      4\u001b[0m \u001b[1;33m\u001b[0m\u001b[0m\n\u001b[0;32m      5\u001b[0m \u001b[0mY\u001b[0m\u001b[1;33m\u001b[0m\u001b[1;33m\u001b[0m\u001b[0m\n",
      "\u001b[1;31mAttributeError\u001b[0m: 'numpy.ndarray' object has no attribute 'values'"
     ]
    }
   ],
   "source": [
    "X=ordenc.fit_transform(X)\n",
    "\n",
    "Y=ordenc.fit_transform(Y.values.reshape(-1,1))\n"
   ]
  },
  {
   "cell_type": "code",
   "execution_count": 76,
   "id": "aae17e23",
   "metadata": {},
   "outputs": [
    {
     "data": {
      "text/plain": [
       "array([[2.],\n",
       "       [2.],\n",
       "       [2.],\n",
       "       ...,\n",
       "       [2.],\n",
       "       [1.],\n",
       "       [3.]])"
      ]
     },
     "execution_count": 76,
     "metadata": {},
     "output_type": "execute_result"
    }
   ],
   "source": []
  },
  {
   "cell_type": "code",
   "execution_count": 77,
   "id": "e28eecef",
   "metadata": {},
   "outputs": [],
   "source": [
    "X_train,X_test,Y_train,Y_test=train_test_split(X,Y,test_size=0.2,random_state=1)"
   ]
  },
  {
   "cell_type": "code",
   "execution_count": 84,
   "id": "b8718799",
   "metadata": {},
   "outputs": [
    {
     "name": "stdout",
     "output_type": "stream",
     "text": [
      "10362 8286 2076\n"
     ]
    }
   ],
   "source": [
    "print(X.size,X_train.size,X_test.size)"
   ]
  },
  {
   "cell_type": "markdown",
   "id": "0fcdb482",
   "metadata": {},
   "source": [
    "## Model Selection"
   ]
  },
  {
   "cell_type": "code",
   "execution_count": 85,
   "id": "acad2eb0",
   "metadata": {},
   "outputs": [],
   "source": [
    "dt_gini=DecisionTreeClassifier(criterion='gini',max_depth=3,random_state=1)"
   ]
  },
  {
   "cell_type": "code",
   "execution_count": 87,
   "id": "fccff3d1",
   "metadata": {},
   "outputs": [
    {
     "data": {
      "text/plain": [
       "DecisionTreeClassifier(max_depth=3, random_state=1)"
      ]
     },
     "execution_count": 87,
     "metadata": {},
     "output_type": "execute_result"
    }
   ],
   "source": [
    "dt_gini.fit(X_train,Y_train)"
   ]
  },
  {
   "cell_type": "code",
   "execution_count": 88,
   "id": "2a1e5b87",
   "metadata": {},
   "outputs": [],
   "source": [
    "Y_pred=dt_gini.predict(X_test)"
   ]
  },
  {
   "cell_type": "markdown",
   "id": "fd7f53d0",
   "metadata": {},
   "source": [
    "## Checking The Accuracy"
   ]
  },
  {
   "cell_type": "code",
   "execution_count": 94,
   "id": "480eec98",
   "metadata": {},
   "outputs": [],
   "source": [
    "from sklearn.metrics import accuracy_score"
   ]
  },
  {
   "cell_type": "code",
   "execution_count": 96,
   "id": "26005203",
   "metadata": {},
   "outputs": [
    {
     "data": {
      "text/plain": [
       "array([[ 62,   0,  11,   0],\n",
       "       [ 13,   0,   0,   0],\n",
       "       [ 45,   0, 194,   0],\n",
       "       [ 21,   0,   0,   0]], dtype=int64)"
      ]
     },
     "execution_count": 96,
     "metadata": {},
     "output_type": "execute_result"
    }
   ],
   "source": [
    "confusion_matrix(Y_test,Y_pred)"
   ]
  },
  {
   "cell_type": "code",
   "execution_count": 95,
   "id": "8b20b7fb",
   "metadata": {},
   "outputs": [
    {
     "data": {
      "text/plain": [
       "0.7398843930635838"
      ]
     },
     "execution_count": 95,
     "metadata": {},
     "output_type": "execute_result"
    }
   ],
   "source": [
    "accuracy_score(Y_test,Y_pred)"
   ]
  },
  {
   "cell_type": "markdown",
   "id": "9325ce28",
   "metadata": {},
   "source": [
    "<p>Lets check if there is any overfitting when depth=3</p>"
   ]
  },
  {
   "cell_type": "code",
   "execution_count": 97,
   "id": "84485af1",
   "metadata": {},
   "outputs": [],
   "source": [
    "Y_train_pred=dt_gini.predict(X_train)"
   ]
  },
  {
   "cell_type": "code",
   "execution_count": 98,
   "id": "c16106c4",
   "metadata": {},
   "outputs": [
    {
     "data": {
      "text/plain": [
       "0.7900072411296162"
      ]
     },
     "execution_count": 98,
     "metadata": {},
     "output_type": "execute_result"
    }
   ],
   "source": [
    "accuracy_score(Y_train,Y_train_pred)"
   ]
  },
  {
   "cell_type": "markdown",
   "id": "367366d3",
   "metadata": {},
   "source": [
    "<p> As we can see, the accuracy score of the training and test set are roughly comparable,so there is no overfitting occuring</p>"
   ]
  },
  {
   "cell_type": "markdown",
   "id": "18fa1e43",
   "metadata": {},
   "source": [
    "# Hyperpararmeter Tuning"
   ]
  },
  {
   "cell_type": "markdown",
   "id": "42228fc8",
   "metadata": {},
   "source": [
    "##### Lets check if we can improve the accuracy by increasing the max_depth variable"
   ]
  },
  {
   "cell_type": "code",
   "execution_count": 120,
   "id": "fa1cff15",
   "metadata": {},
   "outputs": [
    {
     "name": "stdout",
     "output_type": "stream",
     "text": [
      "\n",
      "Training Set Accuracy for max depth= 1 is 0.7023895727733527\n",
      "Test Set Accuracy for max_depth = 1 is 0.6907514450867052\n",
      "\n",
      "Training Set Accuracy for max depth= 2 is 0.7740767559739319\n",
      "Test Set Accuracy for max_depth = 2 is 0.7485549132947977\n",
      "\n",
      "Training Set Accuracy for max depth= 3 is 0.7900072411296162\n",
      "Test Set Accuracy for max_depth = 3 is 0.7398843930635838\n",
      "\n",
      "Training Set Accuracy for max depth= 4 is 0.837074583635047\n",
      "Test Set Accuracy for max_depth = 4 is 0.7774566473988439\n",
      "\n",
      "Training Set Accuracy for max depth= 5 is 0.8790731354091238\n",
      "Test Set Accuracy for max_depth = 5 is 0.846820809248555\n",
      "\n",
      "Training Set Accuracy for max depth= 6 is 0.8986241853729182\n",
      "Test Set Accuracy for max_depth = 6 is 0.8554913294797688\n",
      "\n",
      "Training Set Accuracy for max depth= 7 is 0.9283128167994207\n",
      "Test Set Accuracy for max_depth = 7 is 0.8988439306358381\n"
     ]
    }
   ],
   "source": [
    "\n",
    "accuracy_list=[]\n",
    "\n",
    "for i in range(1,8):\n",
    "\n",
    " dt_gini2=DecisionTreeClassifier(criterion='gini',max_depth=i,random_state=1)\n",
    "\n",
    " dt_gini2.fit(X_train,Y_train)\n",
    "\n",
    " y_pred2=dt_gini2.predict(X_test)\n",
    "\n",
    " y_pred_train2=dt_gini2.predict(X_train)\n",
    "    \n",
    " print(f'\\nTraining Set Accuracy for max depth= {i} is',accuracy_score(Y_train,y_pred_train2))\n",
    " print(f'Test Set Accuracy for max_depth = {i} is',accuracy_score(Y_test,y_pred2))\n",
    "\n",
    " accuracy_list.append(accuracy_score(Y_test,y_pred2))\n",
    "    \n",
    "    \n",
    "\n",
    "\n",
    "\n",
    "\n"
   ]
  },
  {
   "cell_type": "markdown",
   "id": "8535bca0",
   "metadata": {},
   "source": [
    "###### Plot of the accuracy score vs max_depth values"
   ]
  },
  {
   "cell_type": "code",
   "execution_count": 121,
   "id": "528c9558",
   "metadata": {},
   "outputs": [
    {
     "data": {
      "image/png": "[encoded data removed]",
      "text/plain": [
       "<Figure size 864x576 with 1 Axes>"
      ]
     },
     "metadata": {
      "needs_background": "light"
     },
     "output_type": "display_data"
    }
   ],
   "source": [
    "plt.figure(figsize=(12,8))\n",
    "\n",
    "\n",
    "\n",
    "plt.plot(range(1,8),accuracy_list)\n",
    "\n",
    "plt.xlabel('max_depth values')\n",
    "\n",
    "plt.ylabel('Accuracy Score')\n",
    "\n",
    "plt.show()"
   ]
  },
  {
   "cell_type": "markdown",
   "id": "f505806b",
   "metadata": {},
   "source": [
    "\n",
    "<p> The training set and test set errors when max_depth=7 are very close to each other,so there is no fear of overfitting when max_depth is is equal to 7,and the accuracy is very good, so it would be better to choose max_depth=7, if max_depth is higher than 7 than the fear of overfitting becomes more probable, and would require more computation time"
   ]
  },
  {
   "cell_type": "code",
   "execution_count": null,
   "id": "0488d8b9",
   "metadata": {},
   "outputs": [],
   "source": []
  }
 ],
 "metadata": {
  "kernelspec": {
   "display_name": "Python 3 (ipykernel)",
   "language": "python",
   "name": "python3"
  },
  "language_info": {
   "codemirror_mode": {
    "name": "ipython",
    "version": 3
   },
   "file_extension": ".py",
   "mimetype": "text/x-python",
   "name": "python",
   "nbconvert_exporter": "python",
   "pygments_lexer": "ipython3",
   "version": "3.9.7"
  }
 },
 "nbformat": 4,
 "nbformat_minor": 5
}
