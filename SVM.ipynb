{
 "cells": [
  {
   "cell_type": "code",
   "execution_count": 47,
   "id": "fb556957",
   "metadata": {},
   "outputs": [],
   "source": [
    "import pandas as pd\n",
    "import numpy as np\n",
    "import matplotlib.pyplot as plt\n",
    "\n",
    "from sklearn.svm import SVC\n",
    "\n",
    "from sklearn.model_selection import train_test_split\n",
    "\n",
    "from sklearn.preprocessing import StandardScaler\n",
    "\n",
    "from sklearn.metrics import confusion_matrix,accuracy_score\n",
    "\n",
    "\n",
    "\n"
   ]
  },
  {
   "cell_type": "code",
   "execution_count": 51,
   "id": "ca944cbe",
   "metadata": {},
   "outputs": [],
   "source": [
    "#This project is about trying to classify a pulsar star\n",
    "\n",
    "#loading Data\n",
    "\n",
    "\n",
    "df_train=pd.read_csv(\"C:\\\\Users\\\\user\\\\Desktop\\\\Machine Learning\\\\DataSets\\\\pulsar_data_train.csv\")\n",
    "df_test=pd.read_csv(\"C:\\\\Users\\\\user\\\\Desktop\\\\Machine Learning\\\\DataSets\\\\pulsar_data_test.csv\")\n",
    "\n",
    "df_train.columns = ['mean_profile', 'std_profile', 'kurtosis_profile', 'skewness_profile', 'mean_dmsnr',\n",
    "               'std_dmsnr', 'kurtosis_dmsnr', 'skewness_dmsnr', 'target']\n",
    "\n",
    "df_test.columns = ['mean_profile', 'std_profile', 'kurtosis_profile', 'skewness_profile', 'mean_dmsnr',\n",
    "               'std_dmsnr', 'kurtosis_dmsnr', 'skewness_dmsnr', 'target']"
   ]
  },
  {
   "cell_type": "code",
   "execution_count": 52,
   "id": "40a7f8c7",
   "metadata": {},
   "outputs": [
    {
     "name": "stdout",
     "output_type": "stream",
     "text": [
      "<class 'pandas.core.frame.DataFrame'>\n",
      "RangeIndex: 12528 entries, 0 to 12527\n",
      "Data columns (total 9 columns):\n",
      " #   Column            Non-Null Count  Dtype  \n",
      "---  ------            --------------  -----  \n",
      " 0   mean_profile      12528 non-null  float64\n",
      " 1   std_profile       12528 non-null  float64\n",
      " 2   kurtosis_profile  10793 non-null  float64\n",
      " 3   skewness_profile  12528 non-null  float64\n",
      " 4   mean_dmsnr        12528 non-null  float64\n",
      " 5   std_dmsnr         11350 non-null  float64\n",
      " 6   kurtosis_dmsnr    12528 non-null  float64\n",
      " 7   skewness_dmsnr    11903 non-null  float64\n",
      " 8   target            12528 non-null  float64\n",
      "dtypes: float64(9)\n",
      "memory usage: 881.0 KB\n"
     ]
    }
   ],
   "source": [
    "# Data Analysis\n",
    "\n",
    "\n",
    "df_train.info()"
   ]
  },
  {
   "cell_type": "code",
   "execution_count": 53,
   "id": "83e33062",
   "metadata": {},
   "outputs": [
    {
     "data": {
      "text/plain": [
       "mean_profile           0\n",
       "std_profile            0\n",
       "kurtosis_profile    1735\n",
       "skewness_profile       0\n",
       "mean_dmsnr             0\n",
       "std_dmsnr           1178\n",
       "kurtosis_dmsnr         0\n",
       "skewness_dmsnr       625\n",
       "target                 0\n",
       "dtype: int64"
      ]
     },
     "execution_count": 53,
     "metadata": {},
     "output_type": "execute_result"
    }
   ],
   "source": [
    "# checking how many missing values exist\n",
    "\n",
    "df_train.isnull().sum()"
   ]
  },
  {
   "cell_type": "code",
   "execution_count": 54,
   "id": "210b07a5",
   "metadata": {},
   "outputs": [],
   "source": [
    "# filling of missing values\n",
    "\n",
    "fill_list = df_train['kurtosis_profile']\n",
    "df_train['kurtosis_profile'] = df_train['kurtosis_profile'].fillna(pd.Series(np.random.choice(fill_list , size = len(df_train.index))))\n",
    "fill_list = df_train['std_dmsnr']\n",
    "df_train['std_dmsnr'] = df_train['std_dmsnr'].fillna(pd.Series(np.random.choice(fill_list , size = len(df_train.index))))\n",
    "fill_list = df_train['skewness_dmsnr']\n",
    "df_train['skewness_dmsnr'] = df_train['skewness_dmsnr'].fillna(pd.Series(np.random.choice(fill_list , size = len(df_train.index))))"
   ]
  },
  {
   "cell_type": "code",
   "execution_count": 55,
   "id": "e7cd2478",
   "metadata": {},
   "outputs": [
    {
     "data": {
      "text/plain": [
       "mean_profile          0\n",
       "std_profile           0\n",
       "kurtosis_profile    239\n",
       "skewness_profile      0\n",
       "mean_dmsnr            0\n",
       "std_dmsnr           117\n",
       "kurtosis_dmsnr        0\n",
       "skewness_dmsnr       32\n",
       "target                0\n",
       "dtype: int64"
      ]
     },
     "execution_count": 55,
     "metadata": {},
     "output_type": "execute_result"
    }
   ],
   "source": [
    "df_train.isnull().sum()\n"
   ]
  },
  {
   "cell_type": "code",
   "execution_count": 56,
   "id": "ccff941a",
   "metadata": {},
   "outputs": [
    {
     "data": {
      "text/plain": [
       "mean_profile        0\n",
       "std_profile         0\n",
       "kurtosis_profile    0\n",
       "skewness_profile    0\n",
       "mean_dmsnr          0\n",
       "std_dmsnr           0\n",
       "kurtosis_dmsnr      0\n",
       "skewness_dmsnr      0\n",
       "target              0\n",
       "dtype: int64"
      ]
     },
     "execution_count": 56,
     "metadata": {},
     "output_type": "execute_result"
    }
   ],
   "source": [
    "df_train.dropna(inplace=True)\n",
    "df_train.isnull().sum()"
   ]
  },
  {
   "cell_type": "code",
   "execution_count": 57,
   "id": "17e6c456",
   "metadata": {},
   "outputs": [
    {
     "name": "stderr",
     "output_type": "stream",
     "text": [
      "C:\\ProgramData\\Anaconda3\\lib\\site-packages\\sklearn\\utils\\validation.py:63: DataConversionWarning: A column-vector y was passed when a 1d array was expected. Please change the shape of y to (n_samples, ), for example using ravel().\n",
      "  return f(*args, **kwargs)\n"
     ]
    },
    {
     "data": {
      "text/plain": [
       "SVC(kernel='linear')"
      ]
     },
     "execution_count": 57,
     "metadata": {},
     "output_type": "execute_result"
    }
   ],
   "source": [
    "#Train Test Split\n",
    "\n",
    "X = df_train.drop('target',axis=1)\n",
    "Y = df_train[['target']]\n",
    "\n",
    "\n",
    "\n",
    "X_train, X_test, y_train, y_test = train_test_split(X, Y, test_size=.30, random_state=1)\n",
    "\n",
    "# Scaling the data\n",
    "\n",
    "scaler=StandardScaler() \n",
    "X_trains = scaler.fit_transform(X_train)\n",
    "\n",
    "X_tests = scaler.transform(X_test)\n",
    "\n",
    "svm=SVC(kernel=\"linear\")\n",
    "\n",
    "svm.fit(X_trains,y_train)\n",
    "\n",
    "\n",
    "\n"
   ]
  },
  {
   "cell_type": "code",
   "execution_count": 58,
   "id": "5554739a",
   "metadata": {},
   "outputs": [],
   "source": [
    "y_pred=svm.predict(X_tests)"
   ]
  },
  {
   "cell_type": "code",
   "execution_count": 59,
   "id": "16326305",
   "metadata": {},
   "outputs": [
    {
     "data": {
      "text/plain": [
       "array([[3288,   18],\n",
       "       [  72,  265]], dtype=int64)"
      ]
     },
     "execution_count": 59,
     "metadata": {},
     "output_type": "execute_result"
    }
   ],
   "source": [
    "confusion_matrix(y_test,y_pred)"
   ]
  },
  {
   "cell_type": "code",
   "execution_count": 60,
   "id": "fa877a1a",
   "metadata": {},
   "outputs": [
    {
     "data": {
      "text/plain": [
       "0.9752950864671973"
      ]
     },
     "execution_count": 60,
     "metadata": {},
     "output_type": "execute_result"
    }
   ],
   "source": [
    "accuracy_score(y_test,y_pred)"
   ]
  },
  {
   "cell_type": "code",
   "execution_count": 61,
   "id": "0faa4304",
   "metadata": {},
   "outputs": [],
   "source": [
    "# we have a very good accuracy result from our model and high precision and recall,so we can conclude that this model performs well\n",
    "\n",
    "# but the accuracy could be further improved with hyper-paramater tuning of C, so further testing is needed. "
   ]
  }
 ],
 "metadata": {
  "kernelspec": {
   "display_name": "Python 3 (ipykernel)",
   "language": "python",
   "name": "python3"
  },
  "language_info": {
   "codemirror_mode": {
    "name": "ipython",
    "version": 3
   },
   "file_extension": ".py",
   "mimetype": "text/x-python",
   "name": "python",
   "nbconvert_exporter": "python",
   "pygments_lexer": "ipython3",
   "version": "3.9.7"
  }
 },
 "nbformat": 4,
 "nbformat_minor": 5
}
